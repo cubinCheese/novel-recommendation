{
 "cells": [
  {
   "cell_type": "code",
   "execution_count": null,
   "metadata": {
    "vscode": {
     "languageId": "plaintext"
    }
   },
   "outputs": [],
   "source": []
  },
  {
   "cell_type": "code",
   "execution_count": null,
   "metadata": {
    "vscode": {
     "languageId": "plaintext"
    }
   },
   "outputs": [],
   "source": []
  },
  {
   "cell_type": "code",
   "execution_count": null,
   "metadata": {
    "vscode": {
     "languageId": "plaintext"
    }
   },
   "outputs": [],
   "source": [
    "\n",
    "# example for reference of building features\n",
    "def beer_features(review):\n",
    "    '''create a feature vector based on beer features'''\n",
    "    \n",
    "    abv = review['beer/ABV']\n",
    "    appearance = review['review/appearance']\n",
    "    aroma = review['review/aroma']\n",
    "    palate = review['review/palate']\n",
    "    taste = review['review/taste']\n",
    "    time = int(review['review/time'])\n",
    "    \n",
    "    features = [abv, appearance, aroma, palate, taste, time]\n",
    "    return features"
   ]
  },
  {
   "cell_type": "code",
   "execution_count": null,
   "metadata": {
    "vscode": {
     "languageId": "plaintext"
    }
   },
   "outputs": [],
   "source": [
    "# features based on reviews\n",
    "def novel_features(review):"
   ]
  }
 ],
 "metadata": {
  "language_info": {
   "name": "python"
  }
 },
 "nbformat": 4,
 "nbformat_minor": 2
}
